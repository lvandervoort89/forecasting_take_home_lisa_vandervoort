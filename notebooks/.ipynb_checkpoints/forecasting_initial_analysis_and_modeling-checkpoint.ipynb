{
 "cells": [
  {
   "cell_type": "markdown",
   "metadata": {},
   "source": [
    "# forecasting_take_home\n",
    "Let's see you build something that works on our machine!\n",
    "\n",
    "## Background\n",
    "\n",
    "We work in Docker, and we'd like to see what you can do using it.\n",
    "\n",
    "Please read all of the following.\n",
    "\n",
    "Pay close attention to the **Take Home Assignment Instructions, Submission Requirements, and Evaluation Criteria** section below.\n",
    "\n",
    "## Technical Requirements\n",
    "\n",
    "- [Docker](https://www.docker.com/products/docker-desktop)\n",
    "  - This was written using version 19.03.5, build 633a0ea.\n",
    "\n",
    "## Technical Nice to Haves\n",
    "\n",
    "- [bash](https://www.gnu.org/software/bash/)\n",
    "  - This was written using GNU bash, version 3.2.57(1)-release (x86_64-apple-darwin17).\n",
    "\n",
    "## Take Home Assignment Instructions, Submission Requirements, and Evaluation Criteria\n",
    "\n",
    "### Instructions\n",
    "\n",
    "Use the data in [forecasting_take_home_data.xlsx](./notebooks/forecasting_take_home_data.xlsx) in the notebooks directory.\n",
    "\n",
    "Install the [Facebook Prophet](https://facebook.github.io/prophet/docs/quick_start.html) Python package in the `forecasting_take_home` Docker container that is created in the \"build\" portion of [driver.sh](./driver.sh).\n",
    "\n",
    "Note that the [requirements.txt](./requirements.txt) file includes **only** Jupyter and its dependencies.\n",
    "\n",
    "Analyze the data, and tell us what you see.\n",
    "\n",
    "Split the data into training and test sets.\n",
    "\n",
    "Then, use the Facebook Prophet package to find the model that fits the training data the best (you choose what \"the best\" means), and evaluate the model's performance on the test set.\n",
    "\n",
    "### Submission Requirements\n",
    "\n",
    "- Create a new, publicly available GitHub repository named \"forecasting_take_home_[YOUR NAME]\".\n",
    "\n",
    "  - For example, if your name is \"Thomas Bayes\", then the repo would be named \"forecasting_take_home_thomas_bayes\".\n",
    "\n",
    "- All of your work should be in the GitHub repository you create.\n",
    "\n",
    "- All analysis and modeling must be done in Docker and must be completely reproducible.\n",
    "\n",
    "- Add a PDF called \"forecasting_take_home_[YOUR NAME].pdf\" to the repo, which documents the following:\n",
    "\n",
    " - Your analysis of the data, highlighting important discoveries you make.\n",
    "\n",
    " - Your modeling approach, including the decisions you faced, which ones you made, and why you made them.\n",
    "\n",
    " - Instructions on how to run the code for your analysis and modeling.\n",
    "\n",
    "### Evaluation Criteria\n",
    "\n",
    "So that you know where to invest your time, here's how we're going to evaluate you.\n",
    "\n",
    "- Is all of your work in a publicly available GitHub repo?  (Pass/Fail)\n",
    "\n",
    "- Does your repo include a \"forecasting_take_home_[YOUR NAME].pdf\"?  (Pass/Fail)\n",
    "\n",
    "- What percentage of your analysis and modeling could we reproduce? (0-100%)\n",
    "\n",
    "- How well did you document your analysis and modeling decisions? (0-100%)\n",
    "\n",
    "## Automation\n",
    "\n",
    "Take a look at [driver.sh](./driver.sh) to see the commands teed up for you.\n",
    "\n",
    "We suggest that you use driver.sh or something like it in your work but don't require it.\n",
    "\n",
    "0. Build the image.\n",
    "```\n",
    "bash driver.sh build\n",
    "```\n",
    "\n",
    "### Jupyter Notebook Usage\n",
    "\n",
    "1. To see how to run a Jupyter notebook in the container run this.\n",
    "```\n",
    "bash driver.sh jupyter\n",
    "```\n",
    "\n",
    "After you do, you should see something like the following at the command line.\n",
    "```\n",
    "Starting the Jupyter server.\n",
    "92332934de7329bddf3f07875974cef11e7ba0f99fe2b2169be4729a71ad8de7\n",
    "Go to http://localhost:8888/.\n",
    "```\n",
    "\n",
    "2. Go to http://localhost:8888/notebooks/notebooks/hello_world.ipynb, and run the notebook.\n",
    "\n",
    "You should see this in the output of cell 1.\n",
    "```\n",
    "[0, 1, 2, 3, 4]\n",
    "```\n",
    "\n",
    "3. Stop the container.\n",
    "```\n",
    "bash driver.sh stop\n",
    "```\n",
    "\n",
    "### Command Line Usage\n",
    "\n",
    "1. Run the scripts/hello_world.py.\n",
    "```\n",
    "bash driver.sh hello-world\n",
    "```\n",
    "\n",
    "After you do, you should see something like this at the command line.\n",
    "```\n",
    "Running scripts/hello_world.py in the forecasting_take_home container.\n",
    "[0, 1, 2, 3, 4]\n",
    "```\n"
   ]
  },
  {
   "cell_type": "markdown",
   "metadata": {},
   "source": [
    "# Forecasting Take-home \n",
    "Lisa VanderVoort"
   ]
  },
  {
   "cell_type": "markdown",
   "metadata": {},
   "source": [
    "## Exploratory Data Analysis"
   ]
  },
  {
   "cell_type": "markdown",
   "metadata": {},
   "source": [
    "### Import packages and load in data"
   ]
  },
  {
   "cell_type": "code",
   "execution_count": 1,
   "metadata": {},
   "outputs": [
    {
     "name": "stderr",
     "output_type": "stream",
     "text": [
      "Importing plotly failed. Interactive plots will not work.\n"
     ]
    }
   ],
   "source": [
    "import pandas as pd\n",
    "from fbprophet import Prophet"
   ]
  },
  {
   "cell_type": "markdown",
   "metadata": {},
   "source": [
    "When loading in data, skip information at top of Excel file. Rename columns. Note that month and year will include date (set as first day of month), but this is not an actual data point."
   ]
  },
  {
   "cell_type": "code",
   "execution_count": 15,
   "metadata": {},
   "outputs": [],
   "source": [
    "df = pd.read_excel('forecasting_take_home_data.xlsx', skiprows =11, names =['month_and_year', 'gas_price'])"
   ]
  },
  {
   "cell_type": "markdown",
   "metadata": {},
   "source": [
    "#### Take a look at the data"
   ]
  },
  {
   "cell_type": "code",
   "execution_count": 19,
   "metadata": {},
   "outputs": [
    {
     "data": {
      "text/html": [
       "<div>\n",
       "<style scoped>\n",
       "    .dataframe tbody tr th:only-of-type {\n",
       "        vertical-align: middle;\n",
       "    }\n",
       "\n",
       "    .dataframe tbody tr th {\n",
       "        vertical-align: top;\n",
       "    }\n",
       "\n",
       "    .dataframe thead th {\n",
       "        text-align: right;\n",
       "    }\n",
       "</style>\n",
       "<table border=\"1\" class=\"dataframe\">\n",
       "  <thead>\n",
       "    <tr style=\"text-align: right;\">\n",
       "      <th></th>\n",
       "      <th>month_and_year</th>\n",
       "      <th>gas_price</th>\n",
       "    </tr>\n",
       "  </thead>\n",
       "  <tbody>\n",
       "    <tr>\n",
       "      <th>0</th>\n",
       "      <td>1992-01-01</td>\n",
       "      <td>1.022</td>\n",
       "    </tr>\n",
       "    <tr>\n",
       "      <th>1</th>\n",
       "      <td>1992-02-01</td>\n",
       "      <td>1.006</td>\n",
       "    </tr>\n",
       "    <tr>\n",
       "      <th>2</th>\n",
       "      <td>1992-03-01</td>\n",
       "      <td>1.013</td>\n",
       "    </tr>\n",
       "    <tr>\n",
       "      <th>3</th>\n",
       "      <td>1992-04-01</td>\n",
       "      <td>1.052</td>\n",
       "    </tr>\n",
       "    <tr>\n",
       "      <th>4</th>\n",
       "      <td>1992-05-01</td>\n",
       "      <td>1.107</td>\n",
       "    </tr>\n",
       "  </tbody>\n",
       "</table>\n",
       "</div>"
      ],
      "text/plain": [
       "  month_and_year  gas_price\n",
       "0     1992-01-01      1.022\n",
       "1     1992-02-01      1.006\n",
       "2     1992-03-01      1.013\n",
       "3     1992-04-01      1.052\n",
       "4     1992-05-01      1.107"
      ]
     },
     "execution_count": 19,
     "metadata": {},
     "output_type": "execute_result"
    }
   ],
   "source": [
    "df.head()"
   ]
  },
  {
   "cell_type": "code",
   "execution_count": 20,
   "metadata": {},
   "outputs": [
    {
     "data": {
      "text/html": [
       "<div>\n",
       "<style scoped>\n",
       "    .dataframe tbody tr th:only-of-type {\n",
       "        vertical-align: middle;\n",
       "    }\n",
       "\n",
       "    .dataframe tbody tr th {\n",
       "        vertical-align: top;\n",
       "    }\n",
       "\n",
       "    .dataframe thead th {\n",
       "        text-align: right;\n",
       "    }\n",
       "</style>\n",
       "<table border=\"1\" class=\"dataframe\">\n",
       "  <thead>\n",
       "    <tr style=\"text-align: right;\">\n",
       "      <th></th>\n",
       "      <th>month_and_year</th>\n",
       "      <th>gas_price</th>\n",
       "    </tr>\n",
       "  </thead>\n",
       "  <tbody>\n",
       "    <tr>\n",
       "      <th>308</th>\n",
       "      <td>2017-09-01</td>\n",
       "      <td>2.570</td>\n",
       "    </tr>\n",
       "    <tr>\n",
       "      <th>309</th>\n",
       "      <td>2017-10-01</td>\n",
       "      <td>2.430</td>\n",
       "    </tr>\n",
       "    <tr>\n",
       "      <th>310</th>\n",
       "      <td>2017-11-01</td>\n",
       "      <td>2.474</td>\n",
       "    </tr>\n",
       "    <tr>\n",
       "      <th>311</th>\n",
       "      <td>2017-12-01</td>\n",
       "      <td>2.388</td>\n",
       "    </tr>\n",
       "    <tr>\n",
       "      <th>312</th>\n",
       "      <td>2018-01-01</td>\n",
       "      <td>2.467</td>\n",
       "    </tr>\n",
       "  </tbody>\n",
       "</table>\n",
       "</div>"
      ],
      "text/plain": [
       "    month_and_year  gas_price\n",
       "308     2017-09-01      2.570\n",
       "309     2017-10-01      2.430\n",
       "310     2017-11-01      2.474\n",
       "311     2017-12-01      2.388\n",
       "312     2018-01-01      2.467"
      ]
     },
     "execution_count": 20,
     "metadata": {},
     "output_type": "execute_result"
    }
   ],
   "source": [
    "df.tail()"
   ]
  },
  {
   "cell_type": "code",
   "execution_count": 21,
   "metadata": {},
   "outputs": [
    {
     "data": {
      "text/plain": [
       "(313, 2)"
      ]
     },
     "execution_count": 21,
     "metadata": {},
     "output_type": "execute_result"
    }
   ],
   "source": [
    "df.shape"
   ]
  },
  {
   "cell_type": "code",
   "execution_count": 26,
   "metadata": {},
   "outputs": [
    {
     "data": {
      "text/html": [
       "<div>\n",
       "<style scoped>\n",
       "    .dataframe tbody tr th:only-of-type {\n",
       "        vertical-align: middle;\n",
       "    }\n",
       "\n",
       "    .dataframe tbody tr th {\n",
       "        vertical-align: top;\n",
       "    }\n",
       "\n",
       "    .dataframe thead th {\n",
       "        text-align: right;\n",
       "    }\n",
       "</style>\n",
       "<table border=\"1\" class=\"dataframe\">\n",
       "  <thead>\n",
       "    <tr style=\"text-align: right;\">\n",
       "      <th></th>\n",
       "      <th>gas_price</th>\n",
       "    </tr>\n",
       "  </thead>\n",
       "  <tbody>\n",
       "    <tr>\n",
       "      <th>count</th>\n",
       "      <td>313.000000</td>\n",
       "    </tr>\n",
       "    <tr>\n",
       "      <th>mean</th>\n",
       "      <td>2.026236</td>\n",
       "    </tr>\n",
       "    <tr>\n",
       "      <th>std</th>\n",
       "      <td>0.893544</td>\n",
       "    </tr>\n",
       "    <tr>\n",
       "      <th>min</th>\n",
       "      <td>0.900000</td>\n",
       "    </tr>\n",
       "    <tr>\n",
       "      <th>25%</th>\n",
       "      <td>1.188000</td>\n",
       "    </tr>\n",
       "    <tr>\n",
       "      <th>50%</th>\n",
       "      <td>1.863000</td>\n",
       "    </tr>\n",
       "    <tr>\n",
       "      <th>75%</th>\n",
       "      <td>2.700000</td>\n",
       "    </tr>\n",
       "    <tr>\n",
       "      <th>max</th>\n",
       "      <td>4.002000</td>\n",
       "    </tr>\n",
       "  </tbody>\n",
       "</table>\n",
       "</div>"
      ],
      "text/plain": [
       "        gas_price\n",
       "count  313.000000\n",
       "mean     2.026236\n",
       "std      0.893544\n",
       "min      0.900000\n",
       "25%      1.188000\n",
       "50%      1.863000\n",
       "75%      2.700000\n",
       "max      4.002000"
      ]
     },
     "execution_count": 26,
     "metadata": {},
     "output_type": "execute_result"
    }
   ],
   "source": [
    "df.describe()"
   ]
  },
  {
   "cell_type": "markdown",
   "metadata": {},
   "source": [
    "#### Check for null values.\n",
    "There are no nulls. There are 26 years of full monthly data points and 1 month from 2018."
   ]
  },
  {
   "cell_type": "code",
   "execution_count": 55,
   "metadata": {},
   "outputs": [
    {
     "data": {
      "text/plain": [
       "month_and_year    0\n",
       "gas_price         0\n",
       "dtype: int64"
      ]
     },
     "execution_count": 55,
     "metadata": {},
     "output_type": "execute_result"
    }
   ],
   "source": [
    "df.isna().sum()"
   ]
  },
  {
   "cell_type": "code",
   "execution_count": 61,
   "metadata": {},
   "outputs": [
    {
     "data": {
      "text/plain": [
       "month_and_year\n",
       "1992    12\n",
       "1993    12\n",
       "1994    12\n",
       "1995    12\n",
       "1996    12\n",
       "1997    12\n",
       "1998    12\n",
       "1999    12\n",
       "2000    12\n",
       "2001    12\n",
       "2002    12\n",
       "2003    12\n",
       "2004    12\n",
       "2005    12\n",
       "2006    12\n",
       "2007    12\n",
       "2008    12\n",
       "2009    12\n",
       "2010    12\n",
       "2011    12\n",
       "2012    12\n",
       "2013    12\n",
       "2014    12\n",
       "2015    12\n",
       "2016    12\n",
       "2017    12\n",
       "2018     1\n",
       "Name: gas_price, dtype: int64"
      ]
     },
     "execution_count": 61,
     "metadata": {},
     "output_type": "execute_result"
    }
   ],
   "source": [
    "df.groupby([df['month_and_year'].dt.year]).gas_price.count()"
   ]
  },
  {
   "cell_type": "markdown",
   "metadata": {},
   "source": [
    "#### Graph trend over time\n",
    "Overall, gas prices have increased since 1992. There are clear seasonality patterns (yearly rises and drops in prices). There is more volatility in prices from 2008 on, but it aappears as though prices have leveled out a bit more since 2014."
   ]
  },
  {
   "cell_type": "code",
   "execution_count": 60,
   "metadata": {},
   "outputs": [
    {
     "data": {
      "image/png": "[encoded data removed]",
      "text/plain": [
       "<Figure size 432x288 with 1 Axes>"
      ]
     },
     "metadata": {
      "needs_background": "light"
     },
     "output_type": "display_data"
    }
   ],
   "source": [
    "df.plot.line(x='month_and_year', y='gas_price');"
   ]
  },
  {
   "cell_type": "markdown",
   "metadata": {},
   "source": [
    "#### Dig deeper into the data.\n",
    "First, look at the minimum and maximum gas prices across all years."
   ]
  },
  {
   "cell_type": "code",
   "execution_count": 33,
   "metadata": {},
   "outputs": [
    {
     "data": {
      "text/plain": [
       "month_and_year    1999-02-01 00:00:00\n",
       "gas_price                         0.9\n",
       "Name: 85, dtype: object"
      ]
     },
     "execution_count": 33,
     "metadata": {},
     "output_type": "execute_result"
    }
   ],
   "source": [
    "minmum_gas_price_index = df.gas_price.idxmin() \n",
    "df.iloc[minmum_gas_price_index ,:]"
   ]
  },
  {
   "cell_type": "code",
   "execution_count": 34,
   "metadata": {},
   "outputs": [
    {
     "data": {
      "text/plain": [
       "month_and_year    2008-07-01 00:00:00\n",
       "gas_price                       4.002\n",
       "Name: 198, dtype: object"
      ]
     },
     "execution_count": 34,
     "metadata": {},
     "output_type": "execute_result"
    }
   ],
   "source": [
    "maximum_gas_price_index = df.gas_price.idxmax() \n",
    "df.iloc[maximum_gas_price_index ,:]"
   ]
  },
  {
   "cell_type": "markdown",
   "metadata": {},
   "source": [
    "Group data by year and analyze mean gas prices."
   ]
  },
  {
   "cell_type": "code",
   "execution_count": 50,
   "metadata": {},
   "outputs": [
    {
     "data": {
      "text/plain": [
       "month_and_year\n",
       "1998    1.017000\n",
       "1993    1.067083\n",
       "1994    1.071333\n",
       "1992    1.085750\n",
       "1995    1.102250\n",
       "1999    1.115167\n",
       "1997    1.189583\n",
       "1996    1.192250\n",
       "2002    1.308833\n",
       "2001    1.389833\n",
       "2000    1.463917\n",
       "2003    1.514000\n",
       "2004    1.808500\n",
       "2016    2.072333\n",
       "2005    2.237583\n",
       "2009    2.305083\n",
       "2015    2.327000\n",
       "2017    2.335417\n",
       "2018    2.467000\n",
       "2006    2.530250\n",
       "2010    2.741000\n",
       "2007    2.769917\n",
       "2008    3.218583\n",
       "2014    3.304083\n",
       "2013    3.444500\n",
       "2011    3.475583\n",
       "2012    3.558583\n",
       "Name: gas_price, dtype: float64"
      ]
     },
     "execution_count": 50,
     "metadata": {},
     "output_type": "execute_result"
    }
   ],
   "source": [
    "mean_gas_price_by_year = df.groupby([df['month_and_year'].dt.year]).gas_price.mean()\n",
    "mean_gas_price_by_year.sort_values()"
   ]
  },
  {
   "cell_type": "markdown",
   "metadata": {},
   "source": [
    "Group data by month and analyze mean gas price."
   ]
  },
  {
   "cell_type": "code",
   "execution_count": 52,
   "metadata": {},
   "outputs": [
    {
     "data": {
      "text/plain": [
       "month_and_year\n",
       "1     1.871852\n",
       "2     1.884615\n",
       "12    1.891115\n",
       "11    1.955577\n",
       "3     1.985731\n",
       "10    2.037462\n",
       "4     2.068000\n",
       "7     2.113885\n",
       "8     2.114346\n",
       "9     2.122269\n",
       "5     2.132692\n",
       "6     2.143231\n",
       "Name: gas_price, dtype: float64"
      ]
     },
     "execution_count": 52,
     "metadata": {},
     "output_type": "execute_result"
    }
   ],
   "source": [
    "mean_gas_price_by_month = df.groupby([df['month_and_year'].dt.month]).gas_price.mean()\n",
    "mean_gas_price_by_month.sort_values()"
   ]
  },
  {
   "cell_type": "markdown",
   "metadata": {},
   "source": []
  },
  {
   "cell_type": "code",
   "execution_count": 63,
   "metadata": {},
   "outputs": [],
   "source": [
    "# Add 2 new columns with month and year separately \n",
    "df['year'] = df.month_and_year.dt.year\n",
    "df['month'] = df.month_and_year.dt.month"
   ]
  },
  {
   "cell_type": "code",
   "execution_count": null,
   "metadata": {},
   "outputs": [],
   "source": []
  },
  {
   "cell_type": "code",
   "execution_count": null,
   "metadata": {},
   "outputs": [],
   "source": []
  },
  {
   "cell_type": "code",
   "execution_count": null,
   "metadata": {},
   "outputs": [],
   "source": []
  },
  {
   "cell_type": "code",
   "execution_count": null,
   "metadata": {},
   "outputs": [],
   "source": []
  },
  {
   "cell_type": "code",
   "execution_count": null,
   "metadata": {},
   "outputs": [],
   "source": []
  },
  {
   "cell_type": "markdown",
   "metadata": {},
   "source": [
    "Split train and test data"
   ]
  },
  {
   "cell_type": "code",
   "execution_count": null,
   "metadata": {},
   "outputs": [],
   "source": [
    "start_date = pd.Timestamp(2020, 8, 1) \n",
    "last_date = pd.Timestamp(2020, 12, 31) \n",
    "\n",
    "cross_val_data = df[(df.ds < start_date)]\n",
    "test_data = df[(df.ds >= start_date) & (df.ds <= last_date)]"
   ]
  }
 ],
 "metadata": {
  "kernelspec": {
   "display_name": "Python 3",
   "language": "python",
   "name": "python3"
  },
  "language_info": {
   "codemirror_mode": {
    "name": "ipython",
    "version": 3
   },
   "file_extension": ".py",
   "mimetype": "text/x-python",
   "name": "python",
   "nbconvert_exporter": "python",
   "pygments_lexer": "ipython3",
   "version": "3.7.7"
  }
 },
 "nbformat": 4,
 "nbformat_minor": 4
}
